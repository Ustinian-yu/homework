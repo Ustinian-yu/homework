{
 "cells": [
  {
   "cell_type": "code",
   "execution_count": 1,
   "id": "8bbe2f46-5cbf-4973-8cb7-a575320b6c26",
   "metadata": {},
   "outputs": [
    {
     "name": "stdout",
     "output_type": "stream",
     "text": [
      "★数据科学与工程导论★\n"
     ]
    }
   ],
   "source": [
    "#1编写Python程序，打印\"数据科学与工程导论\"，并使用 print(chr(0x2605)) 语句将星星包围起来。\n",
    "print(chr(0x2605) + \"数据科学与工程导论\" + chr(0x2605))"
   ]
  },
  {
   "cell_type": "code",
   "execution_count": 20,
   "id": "770230a2-89f9-40e7-b64b-fdddeaaf5912",
   "metadata": {},
   "outputs": [
    {
     "name": "stdin",
     "output_type": "stream",
     "text": [
      " 5\n",
      " 9\n",
      " 2\n"
     ]
    },
    {
     "name": "stdout",
     "output_type": "stream",
     "text": [
      "['2', '5', '9']\n"
     ]
    }
   ],
   "source": [
    "#2写一个 Python 程序，输入 x, y, z 这三个数，将这三个数从小到大使用 print 函数打印出来。\n",
    "x=input()\n",
    "y=input()\n",
    "z=input()\n",
    "numbers=[x,y,z]\n",
    "numbers.sort()\n",
    "print(numbers)"
   ]
  },
  {
   "cell_type": "code",
   "execution_count": 21,
   "id": "8c952db0-cbc6-4e38-9a00-942093a654be",
   "metadata": {},
   "outputs": [
    {
     "name": "stdin",
     "output_type": "stream",
     "text": [
      " 4\n",
      " 5\n",
      " 9\n",
      " 3\n"
     ]
    },
    {
     "name": "stdout",
     "output_type": "stream",
     "text": [
      "['9', '5', '4', '3']\n"
     ]
    }
   ],
   "source": [
    "#3写一个 Python 程序，有 w, x, y, z 四个数，将这四个数从大到小使用 print 函数打印出来。\n",
    "w=input()\n",
    "x=input()\n",
    "y=input()\n",
    "z=input()\n",
    "numbers=[w,x,y,z]\n",
    "numbers.sort(reverse=True)\n",
    "print(numbers)"
   ]
  },
  {
   "cell_type": "code",
   "execution_count": 22,
   "id": "9f1cc0a6-a970-439b-89b0-f2c0b6fa0b3b",
   "metadata": {},
   "outputs": [
    {
     "name": "stdout",
     "output_type": "stream",
     "text": [
      "1 3 5 7 9 11 13 15 17 19 21 23 25 27 29 31 33 35 37 39 41 43 45 47 49 51 53 55 57 59 61 63 65 67 69 71 73 75 77 79 81 83 85 87 89 91 93 95 97 99 "
     ]
    }
   ],
   "source": [
    "#4写一个 Python 程序，输出 1-100 中的所有奇数。\n",
    "for number in range(1, 101): \n",
    "    if number%2!=0:  \n",
    "        print(number,end=' ')"
   ]
  },
  {
   "cell_type": "code",
   "execution_count": 23,
   "id": "f1de3aa7-2b3a-48ab-abc9-a9e6356a27c0",
   "metadata": {},
   "outputs": [
    {
     "name": "stdout",
     "output_type": "stream",
     "text": [
      "5050\n"
     ]
    }
   ],
   "source": [
    "#5写一个 Python 程序，用 for 循环，求解 1 到 100 的和。\n",
    "sum=0\n",
    "for i in range(1,101):\n",
    "    sum+=i\n",
    "print(sum)"
   ]
  },
  {
   "cell_type": "code",
   "execution_count": 24,
   "id": "215808ff-83f6-484a-a4df-b9448225f873",
   "metadata": {},
   "outputs": [
    {
     "name": "stdin",
     "output_type": "stream",
     "text": [
      " 1,2,3,4,5,6\n"
     ]
    },
    {
     "name": "stdout",
     "output_type": "stream",
     "text": [
      "6 5 4 3 2 1 "
     ]
    },
    {
     "name": "stdin",
     "output_type": "stream",
     "text": [
      " 4,5,6,7,8,9\n"
     ]
    },
    {
     "name": "stdout",
     "output_type": "stream",
     "text": [
      "9 8 7 6 5 4 "
     ]
    }
   ],
   "source": [
    "#6写一个 Python 程序，分别用 for 和 while 循环实现对一个给定序列的倒排序输出。例如，给定 L=[1,2,3,4,5]，输出为 [5,4,3,2,1]。\n",
    "L=input().split(',')\n",
    "num=len(L)-1\n",
    "for i in range(len(L)):\n",
    "    print(L[num],end=' ')\n",
    "    num-=1\n",
    "\n",
    "LL=input().split(',')\n",
    "count=len(LL)-1\n",
    "while count>=0:\n",
    "    print(LL[count],end=' ')\n",
    "    count-=1"
   ]
  },
  {
   "cell_type": "code",
   "execution_count": 7,
   "id": "bc6facff-1ec8-4ea0-9767-0d15ea0c8ac8",
   "metadata": {},
   "outputs": [
    {
     "name": "stdin",
     "output_type": "stream",
     "text": [
      " abbbbaccccc\n"
     ]
    },
    {
     "name": "stdout",
     "output_type": "stream",
     "text": [
      "字符串包含的重复字符段： bbbb, ccccc\n"
     ]
    }
   ],
   "source": [
    "#7写一个 Python 程序，判断一个输入的字符串 S 是否包含由两个或两个以上连续出现的相同字符组成的字符串。\n",
    "#例如，abccccda 中就包含 cccc 这个由 4 个连续字符组成的字符串。\n",
    "S=input()\n",
    "count=1\n",
    "repeated=[]\n",
    "num=len(S)\n",
    "\n",
    "for i in range(1, num):\n",
    "    if S[i]==S[i-1]:\n",
    "        count+=1 \n",
    "    else:\n",
    "        if count>1:\n",
    "            repeated.append(S[i-1]*count)  \n",
    "        count=1  \n",
    "\n",
    "if count >= 2:\n",
    "    repeated.append(S[-1]*count)\n",
    "\n",
    "if repeated:\n",
    "    print(\"字符串包含的重复字符段：\", ', '.join(repeated))\n",
    "else:\n",
    "    print(\"字符串不包含连续出现的相同字符\")"
   ]
  },
  {
   "cell_type": "code",
   "execution_count": 13,
   "id": "2ffb0e16-9a71-451c-8bed-a1c7cafca0f5",
   "metadata": {},
   "outputs": [
    {
     "name": "stdin",
     "output_type": "stream",
     "text": [
      " DataScience and Engineering\n"
     ]
    },
    {
     "name": "stdout",
     "output_type": "stream",
     "text": [
      "DataScienceandEngineering\n"
     ]
    }
   ],
   "source": [
    "#8写一个 Python 程序，输入一个字符串 S，去掉其中所有的空格后输出。例如，“DataScience and Engineering”，去掉空格后为“DataScienceandEngineering”。\n",
    "S=input()\n",
    "s=[]\n",
    "num=len(S)\n",
    "for i in range(num):\n",
    "    if S[i]!=' ':\n",
    "        s.append(S[i])\n",
    "\n",
    "res = ''.join(s)\n",
    "print(res)"
   ]
  },
  {
   "cell_type": "code",
   "execution_count": 3,
   "id": "5d3b4648-5807-4d3e-a8a7-8b8acd6a72cd",
   "metadata": {},
   "outputs": [
    {
     "name": "stdin",
     "output_type": "stream",
     "text": [
      " 27\n"
     ]
    },
    {
     "name": "stdout",
     "output_type": "stream",
     "text": [
      "27 的三次方根是: 3\n"
     ]
    }
   ],
   "source": [
    "#9请设计一个求 3 次方根的算法（不允许直接调用求方根的函数），并给出对应的 Python 程序。 采用牛顿迭代法求解，\n",
    "def cubic_root(x, tolerance=1e-7, max_iterations=100):\n",
    "    if x==0:\n",
    "        return 0\n",
    "    \n",
    "    if x>1:\n",
    "        y=x/3\n",
    "    else:\n",
    "        y=x\n",
    "    \n",
    "    for _ in range(max_iterations):\n",
    "        y_next = (2*y)/3+x/(3*y**2)\n",
    "        if abs(y_next-y)<tolerance:\n",
    "            return int(y_next)  \n",
    "        y=y_next\n",
    "    \n",
    "    return int(y) \n",
    "\n",
    "n=int(input())\n",
    "result=cubic_root(n)\n",
    "print(f\"{n} 的三次方根是: {result}\")\n"
   ]
  },
  {
   "cell_type": "code",
   "execution_count": 19,
   "id": "338a5fd9-512f-47b9-82b9-af94f659300a",
   "metadata": {},
   "outputs": [
    {
     "name": "stdin",
     "output_type": "stream",
     "text": [
      " 5\n"
     ]
    },
    {
     "name": "stdout",
     "output_type": "stream",
     "text": [
      "5!=120\n"
     ]
    }
   ],
   "source": [
    "#10写一个 Python 程序，给定一个常数 n（n>0），求 n 的阶乘，即 n!=1×2×...×(n-1)×n。例如，4!=24，5!=120。\n",
    "def f(n):\n",
    "    result=1\n",
    "    for i in range(1,n+1):\n",
    "        result*=i\n",
    "    return result\n",
    "\n",
    "n=int(input())\n",
    "res=f(n)\n",
    "print(f\"{n}!={res}\")"
   ]
  },
  {
   "cell_type": "code",
   "execution_count": null,
   "id": "585d9e3b-ba63-4f33-b1ac-d9a3f9efaaf4",
   "metadata": {},
   "outputs": [],
   "source": []
  }
 ],
 "metadata": {
  "kernelspec": {
   "display_name": "Python 3 (ipykernel)",
   "language": "python",
   "name": "python3"
  },
  "language_info": {
   "codemirror_mode": {
    "name": "ipython",
    "version": 3
   },
   "file_extension": ".py",
   "mimetype": "text/x-python",
   "name": "python",
   "nbconvert_exporter": "python",
   "pygments_lexer": "ipython3",
   "version": "3.11.7"
  }
 },
 "nbformat": 4,
 "nbformat_minor": 5
}
