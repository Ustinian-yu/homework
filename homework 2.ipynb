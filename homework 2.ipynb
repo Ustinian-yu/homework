{
 "cells": [
  {
   "cell_type": "code",
   "execution_count": 3,
   "id": "10b396ad-f684-46c1-9537-dad02ab82099",
   "metadata": {},
   "outputs": [
    {
     "name": "stdin",
     "output_type": "stream",
     "text": [
      " 36\n",
      " 45\n"
     ]
    },
    {
     "name": "stdout",
     "output_type": "stream",
     "text": [
      "36 和 45 的最大公约数是: 9\n"
     ]
    }
   ],
   "source": [
    "#1编写 Python 程序，求两个正整数的最大公约数。\n",
    "import math\n",
    "def gcd(a, b):\n",
    "    while b != 0:\n",
    "        a, b = b, a % b\n",
    "    return a\n",
    "\n",
    "n = int(input())\n",
    "m = int(input())\n",
    "result = gcd(n,m)\n",
    "print(f\"{n} 和 {m} 的最大公约数是: {result}\")"
   ]
  },
  {
   "cell_type": "code",
   "execution_count": 6,
   "id": "8099a483-faa3-4401-bb39-ed4395ee914d",
   "metadata": {},
   "outputs": [
    {
     "name": "stdin",
     "output_type": "stream",
     "text": [
      "请输入分数为： 99\n"
     ]
    },
    {
     "name": "stdout",
     "output_type": "stream",
     "text": [
      "优秀\n"
     ]
    }
   ],
   "source": [
    "#2 用if语句实现百分制转等级制（考试成绩，60分以下不合格，60—74分合格，75—89分为良好，90分以上为优秀）。\n",
    "x=int(input(\"请输入分数为：\"))\n",
    "if x<60:\n",
    "    print(\"不合格\")\n",
    "elif x<=74:\n",
    "    print(\"合格\")\n",
    "elif x<=89:\n",
    "    print(\"良好\")\n",
    "else:\n",
    "    print(\"优秀\")"
   ]
  },
  {
   "cell_type": "code",
   "execution_count": 4,
   "id": "dffe7792-03d0-4f6b-956c-5aba4aace2d0",
   "metadata": {},
   "outputs": [
    {
     "name": "stdin",
     "output_type": "stream",
     "text": [
      "请输入十进制小数： 0.888888\n"
     ]
    },
    {
     "name": "stdout",
     "output_type": "stream",
     "text": [
      "0.1110001110\n"
     ]
    }
   ],
   "source": [
    "#3编写Python程序，完成十进制小数到二进制小数的转换                                               \n",
    "x=float(input(\"请输入十进制小数：\"))\n",
    "\n",
    "def decimal_to_binary(x):\n",
    "    integer=int(x)   #整数\n",
    "    dec=x-integer    #小数\n",
    "    b_integer=bin(integer).replace('0b','')\n",
    "    b_dec='.'\n",
    "\n",
    "    num=0\n",
    "    while dec>0 and num<10:\n",
    "        dec*=2\n",
    "        a=int(dec)\n",
    "        b_dec+=str(a)\n",
    "        dec-=a\n",
    "        num+=1\n",
    "    return b_integer+b_dec\n",
    "\n",
    "result=decimal_to_binary(x)\n",
    "print(result)\n"
   ]
  },
  {
   "cell_type": "code",
   "execution_count": 8,
   "id": "35343d76-98a3-4349-8391-7fe37bda3744",
   "metadata": {},
   "outputs": [
    {
     "name": "stdout",
     "output_type": "stream",
     "text": [
      "随机产生的浮点数为：19.940263123859342\n"
     ]
    }
   ],
   "source": [
    "#4编写Python程序，产生10-20的随机浮点数\n",
    "from math import*\n",
    "from random import*\n",
    "\n",
    "x=uniform(10,20)\n",
    "print(f\"随机产生的浮点数为：{x}\")"
   ]
  },
  {
   "cell_type": "code",
   "execution_count": 6,
   "id": "099941e5-a791-4ab9-94c2-0d83f733175f",
   "metadata": {},
   "outputs": [
    {
     "name": "stdin",
     "output_type": "stream",
     "text": [
      "请输入一个整数： 12344321\n"
     ]
    },
    {
     "name": "stdout",
     "output_type": "stream",
     "text": [
      "12344321 是一个回文数\n"
     ]
    }
   ],
   "source": [
    "#5编写一个Python函数，判断一个整数是否是回文数。回文数是指正序（从左向右）和倒序（从右向左）读都是一样的数。\n",
    "x=int(input(\"请输入一个整数：\"))\n",
    "\n",
    "def num_palindrome(x):\n",
    "    str_x=str(x)\n",
    "    return str_x==str_x[::-1]\n",
    "\n",
    "if num_palindrome(x):\n",
    "    print(f\"{x} 是一个回文数\")\n",
    "else:\n",
    "    print(f\"{x} 不是一个回文数\")\n"
   ]
  },
  {
   "cell_type": "code",
   "execution_count": 10,
   "id": "5926f6c5-349f-4056-9d6e-549bf4554622",
   "metadata": {},
   "outputs": [
    {
     "name": "stdin",
     "output_type": "stream",
     "text": [
      "请输入一个整数： 4\n"
     ]
    },
    {
     "name": "stdout",
     "output_type": "stream",
     "text": [
      "[0, 1, 1, 2]\n"
     ]
    }
   ],
   "source": [
    "#6编写一个Python函数，返回一个包含斐波那契数列的前N个数的列表。斐波那契数列是一个数列，其中每个数是前两个数的和，数列以0和1开始。\n",
    "N=int(input(\"请输入一个整数：\"))\n",
    "def fib(N):\n",
    "    f=[]\n",
    "    for i in range(0,N):\n",
    "        if i==0:\n",
    "            f.append(0)\n",
    "        elif i==1:\n",
    "            f.append(1)\n",
    "        else:\n",
    "            f.append(f[i-1]+f[i-2])\n",
    "    return f\n",
    "\n",
    "result=fib(N)\n",
    "print(result)"
   ]
  },
  {
   "cell_type": "code",
   "execution_count": 14,
   "id": "7f7ecdfd-125f-4f0f-98b6-c0d0ffc7ca6e",
   "metadata": {},
   "outputs": [
    {
     "name": "stdin",
     "output_type": "stream",
     "text": [
      "请输入整数数组： 1 5 8 8 9 7\n"
     ]
    },
    {
     "name": "stdout",
     "output_type": "stream",
     "text": [
      "8\n"
     ]
    }
   ],
   "source": [
    "#7.编写一个Python函数，接受一个整数数组作为输入，返回数组中第二大的数。如果数组中只有一个元素或数组为空，则返回-1\n",
    "# 输入整数数组\n",
    "\n",
    "a=input(\"请输入整数数组：\")\n",
    "num=list(map(int, a.split()))  \n",
    "def second_big(nums):\n",
    "    if len(nums)<2:\n",
    "        return -1\n",
    "    nums2= sorted(set(nums))\n",
    "    return nums2[-2]\n",
    "\n",
    "result=second_big(num)\n",
    "print(result)\n",
    "    \n"
   ]
  },
  {
   "cell_type": "code",
   "execution_count": 21,
   "id": "817f3765-966d-4835-8d77-0398b3f0788b",
   "metadata": {},
   "outputs": [
    {
     "name": "stdin",
     "output_type": "stream",
     "text": [
      "请输入身份证号： 450804200905274561\n"
     ]
    },
    {
     "name": "stdout",
     "output_type": "stream",
     "text": [
      "True\n"
     ]
    }
   ],
   "source": [
    "#8编写一个函数，使其能够用正则表达式的方式简单验证身份证号是否合法。\n",
    "import re\n",
    "id=input(\"请输入身份证号：\")\n",
    "\n",
    "def res_id_card(id_card):\n",
    "    pattern = r'^[1-9]\\d{5}(19|20)\\d{2}(0[1-9]|1[0-2])(0[1-9]|[12]\\d|3[01])\\d{3}[\\dX]$'\n",
    "    return bool(re.match(pattern, id_card))\n",
    "    \n",
    "result=res_id_card(id)\n",
    "print(result)  \n"
   ]
  },
  {
   "cell_type": "code",
   "execution_count": null,
   "id": "a18adcf4-9689-453d-a98a-774b1a409bc1",
   "metadata": {},
   "outputs": [],
   "source": []
  }
 ],
 "metadata": {
  "kernelspec": {
   "display_name": "Python 3 (ipykernel)",
   "language": "python",
   "name": "python3"
  },
  "language_info": {
   "codemirror_mode": {
    "name": "ipython",
    "version": 3
   },
   "file_extension": ".py",
   "mimetype": "text/x-python",
   "name": "python",
   "nbconvert_exporter": "python",
   "pygments_lexer": "ipython3",
   "version": "3.11.7"
  }
 },
 "nbformat": 4,
 "nbformat_minor": 5
}
