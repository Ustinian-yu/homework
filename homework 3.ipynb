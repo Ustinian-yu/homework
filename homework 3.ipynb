{
 "cells": [
  {
   "cell_type": "code",
   "execution_count": 5,
   "id": "8f7ab71f-591d-4692-aae1-52708d4d75df",
   "metadata": {},
   "outputs": [
    {
     "name": "stdin",
     "output_type": "stream",
     "text": [
      "请输入一个整数： 15\n"
     ]
    },
    {
     "name": "stdout",
     "output_type": "stream",
     "text": [
      "15 不是一个质数\n"
     ]
    }
   ],
   "source": [
    "#1.编写 Python程序,判断输入a是否为质数\n",
    "a=int(input(\"请输入一个整数：\"))\n",
    "mark=0\n",
    "for i in range(2,a):\n",
    "    b=a%i\n",
    "    if b==0:\n",
    "        mark=1\n",
    "        break\n",
    "if mark==0:\n",
    "    print(f\"{a} 是一个质数\")\n",
    "else:\n",
    "    print(f\"{a} 不是一个质数\")\n",
    "    "
   ]
  },
  {
   "cell_type": "code",
   "execution_count": 9,
   "id": "a9b268d5-9b8f-4bee-861c-747d6c7e8a2d",
   "metadata": {},
   "outputs": [
    {
     "name": "stdin",
     "output_type": "stream",
     "text": [
      "请输入一个数组： 4 5 6 7 3 2 9\n"
     ]
    },
    {
     "name": "stdout",
     "output_type": "stream",
     "text": [
      "4 5 6 7 3 2 9 插入排序结果为：[2, 3, 4, 5, 6, 7, 9]\n"
     ]
    }
   ],
   "source": [
    "#2.用Python实现插入排序该算法，不允许直接调用插入排序函数，需要手动实现其逻辑过程。\n",
    "\n",
    "a=input(\"请输入一个数组：\")\n",
    "arr=list(map(int,a.split()))\n",
    "\n",
    "for i in range(1,len(arr)):\n",
    "    mark=arr[i]\n",
    "    j=i-1\n",
    "    while j>=0 and mark<arr[j]:\n",
    "        arr[j+1]=arr[j]\n",
    "        j-=1\n",
    "    arr[j+1]=mark\n",
    "\n",
    "print(f\"{a} 插入排序结果为：{arr}\")"
   ]
  },
  {
   "cell_type": "code",
   "execution_count": 2,
   "id": "6cfde785-87a1-4f26-9cce-90f7b925a185",
   "metadata": {},
   "outputs": [
    {
     "name": "stdin",
     "output_type": "stream",
     "text": [
      "请输入一个数组： 4 5 6 9 1 3\n"
     ]
    },
    {
     "name": "stdout",
     "output_type": "stream",
     "text": [
      "4 5 6 9 1 3 选择排序的结果为：[1, 3, 4, 5, 6, 9]\n"
     ]
    }
   ],
   "source": [
    "#3.用Python实现选择排序该算法，不允许直接调用插入排序函数，需要手动实现其逻辑过程。\n",
    "\n",
    "a = input(\"请输入一个数组：\")\n",
    "arr = list(map(int, a.split()))\n",
    "\n",
    "n = len(arr)\n",
    "for i in range(n):\n",
    "    mark=i\n",
    "    for j in range(i+1,n):\n",
    "        if arr[j] < arr[mark]:\n",
    "            mark=j\n",
    "    arr[i], arr[mark] = arr[mark], arr[i]\n",
    "\n",
    "print(f\"{a} 选择排序的结果为：{arr}\")\n"
   ]
  },
  {
   "cell_type": "code",
   "execution_count": 14,
   "id": "daad6cd4-b324-41dc-af4a-32a9531fe44f",
   "metadata": {},
   "outputs": [
    {
     "name": "stdin",
     "output_type": "stream",
     "text": [
      "请输入一个数组： 4 5 6 7 9 1\n"
     ]
    },
    {
     "name": "stdout",
     "output_type": "stream",
     "text": [
      "4 5 6 7 9 1 快速排序的结果为：[1, 4, 5, 6, 7, 9]\n"
     ]
    }
   ],
   "source": [
    "#4.用Python实现快速排序该算法，不允许直接调用插入排序函数，需要手动实现其逻辑过程。\n",
    "\n",
    "def quick_sort(arr):\n",
    "    if len(arr) <= 1:\n",
    "        return arr\n",
    "\n",
    "    mark=arr[0]\n",
    "    \n",
    "    small=[]   \n",
    "    large=[]\n",
    "    equal=[]\n",
    "\n",
    "    for element in arr:\n",
    "        if element<mark:\n",
    "            small.append(element)  \n",
    "        elif element>mark:\n",
    "            large.append(element)\n",
    "        else:\n",
    "            equal.append(element)\n",
    "\n",
    "    return quick_sort(small)+equal+quick_sort(large)\n",
    "\n",
    "if __name__ == \"__main__\":\n",
    "    a=input(\"请输入一个数组：\")\n",
    "    arr=list(map(int, a.split()))\n",
    "    sorted_arr=quick_sort(arr)\n",
    "    print(f\"{a} 快速排序的结果为：{sorted_arr}\")\n"
   ]
  },
  {
   "cell_type": "code",
   "execution_count": 41,
   "id": "523d34ce-07c1-4ed1-8444-4dd7805c9a33",
   "metadata": {},
   "outputs": [
    {
     "name": "stdout",
     "output_type": "stream",
     "text": [
      "排列100个数快速排序所需要的时间为：0.000000秒\n",
      "排列100个数选择排序所需要的时间为：0.000999秒\n",
      "排列100个数冒泡排序所需要的时间为：0.000000秒\n",
      "\n",
      "排列1000个数快速排序所需要的时间为：0.002000秒\n",
      "排列1000个数选择排序所需要的时间为：0.039001秒\n",
      "排列1000个数冒泡排序所需要的时间为：0.072000秒\n",
      "\n",
      "排列10000个数快速排序所需要的时间为：0.013999秒\n",
      "排列10000个数选择排序所需要的时间为：4.279083秒\n",
      "排列10000个数冒泡排序所需要的时间为：9.825361秒\n",
      "\n"
     ]
    }
   ],
   "source": [
    "#5.使用 Python 随机生成三组长度递增的随机数列，长度分别为100、1000、10000，对生成的随机数组使用不同的排序算法，\n",
    "#至少三种排序方法。对这些数列的数据排序，并分析不同排序算法在不同长度数列下的运行效果，例如运行时间等指标。\n",
    "\n",
    "import random\n",
    "import time\n",
    "\n",
    "def bubble_sort(arr):            #冒泡排序\n",
    "    n=len(arr)\n",
    "    for i in range(n):\n",
    "        swapped=False\n",
    "        for j in range(0,n-i-1):\n",
    "            if arr[j]>arr[j+1]:\n",
    "                arr[j],arr[j+1]=arr[j+1],arr[j]\n",
    "                swapped = True\n",
    "\n",
    "        if not swapped:\n",
    "            break\n",
    "    return arr\n",
    "\n",
    "def selection_sort(arr):              #选择排序\n",
    "    n = len(arr)\n",
    "    for i in range(n):\n",
    "        mark=i\n",
    "        for j in range(i+1, n):\n",
    "            if arr[j]<arr[mark]:\n",
    "                mark=j\n",
    "        arr[i], arr[mark]=arr[mark], arr[i]\n",
    "    return arr\n",
    "\n",
    "def quick_sort(arr):           #快速排序\n",
    "    if len(arr) <= 1:\n",
    "        return arr\n",
    "\n",
    "    mark=arr[0]\n",
    "    \n",
    "    small=[]   \n",
    "    large=[]\n",
    "    equal=[]\n",
    "\n",
    "    for element in arr:\n",
    "        if element<mark:\n",
    "            small.append(element)  \n",
    "        elif element>mark:\n",
    "            large.append(element)\n",
    "        else:\n",
    "            equal.append(element)\n",
    "\n",
    "    return quick_sort(small)+equal+quick_sort(large)\n",
    "\n",
    "if __name__ == \"__main__\":\n",
    "    lengths=[100,1000,10000]\n",
    "    for N in lengths:\n",
    "        arr=[random.randint(1,1000) for _ in range(N)]\n",
    "\n",
    "        start_time1=time.time()    #快速排序\n",
    "        quick_sort(arr.copy())\n",
    "        end_time1=time.time()\n",
    "        total_time1=end_time1-start_time1\n",
    "        print(f\"排列{N}个数快速排序所需要的时间为：{total_time1:.6f}秒\")\n",
    "\n",
    "        start_time2=time.time()    #选择排序\n",
    "        selection_sort(arr.copy())\n",
    "        end_time2=time.time()\n",
    "        total_time2=end_time2-start_time2\n",
    "        print(f\"排列{N}个数选择排序所需要的时间为：{total_time2:.6f}秒\")\n",
    "\n",
    "        start_time3=time.time()    #冒泡排序\n",
    "        bubble_sort(arr.copy())\n",
    "        end_time3=time.time()\n",
    "        total_time3=end_time3-start_time3\n",
    "        print(f\"排列{N}个数冒泡排序所需要的时间为：{total_time3:.6f}秒\")\n",
    "        print()"
   ]
  },
  {
   "cell_type": "code",
   "execution_count": null,
   "id": "c93a2ffc-13b0-4914-a599-9b70e8fb4cb7",
   "metadata": {},
   "outputs": [],
   "source": [
    "第五题对快速排序，选择排序，冒泡排序的性能分析\n",
    "1.时间复杂度\n",
    "  由实验结果可知：随着排列数字个数的增加，三种算法的时间越来越长，但总体上用时 冒泡排序>选择排序>快速排序；且当数列长度越大，选择排序耗时越优于其他两种\n",
    "  排序。\n",
    "\n",
    "2.空间复杂度\n",
    "  根据代码内容可知：快速排序递归调用了栈的空间，但由于它在原地排序，因此除了调用栈的空间外，不再需要额外的储存空间\n",
    "                    冒泡排序和选择排序也是在原地排序，因此只需要常量级的额外空间\n",
    "  因此，快速排序所需要的空间多于其余两种\n",
    "\n",
    "总体上：当数据集较大时，利用快速排序进行排序为更优选择"
   ]
  },
  {
   "cell_type": "code",
   "execution_count": 33,
   "id": "d54b7a52-4335-4485-aeea-c178b8fe55d6",
   "metadata": {},
   "outputs": [
    {
     "name": "stdout",
     "output_type": "stream",
     "text": [
      "当前系统时间为： 2024-10-19 21:49:56\n"
     ]
    }
   ],
   "source": [
    "#6.使用python代码获取当前系统时间\n",
    "from datetime import datetime\n",
    "\n",
    "# 获取当前系统时间\n",
    "current_time = datetime.now()\n",
    "formatted_time = current_time.strftime(\"%Y-%m-%d %H:%M:%S\")\n",
    "\n",
    "print(\"当前系统时间为：\", formatted_time)"
   ]
  },
  {
   "cell_type": "code",
   "execution_count": 55,
   "id": "d8e763c6-0e7d-4fd5-983b-fd5c9d70f686",
   "metadata": {},
   "outputs": [
    {
     "name": "stdout",
     "output_type": "stream",
     "text": [
      "chinese的平均成绩: 82.60\n",
      "math的平均成绩: 81.00\n",
      "english的平均成绩: 81.80\n"
     ]
    }
   ],
   "source": [
    "#7.homework/data文件夹下的stuGrade.csv文件中包含5位同学的学号、语文成绩、数学成绩和英语成绩，请先用记事本打开该文件，\n",
    "#查看文件内容，然后编写Python程序，读取该文件，并计算出各科的平均成绩（保留2位小数）。\n",
    "\n",
    "import pandas as pd\n",
    "\n",
    "df = pd.read_csv(r'C:\\Users\\光影PRO\\Desktop\\stuGrade (3).csv')\n",
    "\n",
    "average_scores = df.iloc[:, 1:4].mean(numeric_only=True)\n",
    "\n",
    "for subject, avg_score in average_scores.items():\n",
    "    print(f\"{subject}的平均成绩: {avg_score:.2f}\")\n"
   ]
  },
  {
   "cell_type": "code",
   "execution_count": 54,
   "id": "777c6bb0-f8db-40ff-9a5b-186b899eb403",
   "metadata": {},
   "outputs": [],
   "source": [
    "#8.请在第7题的代码继续编写Python程序，将以下内容写入my.txt文件中，一并上传到github中。\n",
    "#第1行：你的学号和姓名    第2行：3门课程的平均成绩（任意课程），保留2位小数，以英文逗号间隔\n",
    "#第3行：系统当前时间，格式例如2020-01-01 12:00:00         第4行：两秒后的系统当前时间（利用sleep()方法）\n",
    "\n",
    "import pandas as pd\n",
    "from datetime import datetime\n",
    "import time\n",
    "\n",
    "df = pd.read_csv(r'C:\\Users\\光影PRO\\Desktop\\stuGrade (3).csv')\n",
    "average_scores = df.iloc[:, 1:4].mean(numeric_only=True)\n",
    "subject_names = df.columns[1:4].tolist()\n",
    "\n",
    "with open(r'C:\\Users\\光影PRO\\Desktop\\my.txt', 'w', encoding='utf-8') as file:\n",
    "    file.write(\"学号：10235501441,姓名：黄煜\\n\")\n",
    "    \n",
    "    avg_scores_str = ', '.join([f\"{subject}: {score:.2f}\" for subject, score in zip(subject_names, average_scores)])\n",
    "    file.write(f\"{avg_scores_str}\\n\")\n",
    "    \n",
    "    current_time=datetime.now().strftime('%Y-%m-%d %H:%M:%S')\n",
    "    file.write(f\"当前时间：{current_time}\\n\")\n",
    "    \n",
    "    time.sleep(2)\n",
    "    future_time=datetime.now().strftime('%Y-%m-%d %H:%M:%S')\n",
    "    file.write(f\"两秒后的时间为：{future_time}\\n\")    \n"
   ]
  },
  {
   "cell_type": "code",
   "execution_count": null,
   "id": "658ef312-9ba1-4dd9-94cb-2e3e4b16b06e",
   "metadata": {},
   "outputs": [],
   "source": []
  }
 ],
 "metadata": {
  "kernelspec": {
   "display_name": "Python 3 (ipykernel)",
   "language": "python",
   "name": "python3"
  },
  "language_info": {
   "codemirror_mode": {
    "name": "ipython",
    "version": 3
   },
   "file_extension": ".py",
   "mimetype": "text/x-python",
   "name": "python",
   "nbconvert_exporter": "python",
   "pygments_lexer": "ipython3",
   "version": "3.11.7"
  }
 },
 "nbformat": 4,
 "nbformat_minor": 5
}
